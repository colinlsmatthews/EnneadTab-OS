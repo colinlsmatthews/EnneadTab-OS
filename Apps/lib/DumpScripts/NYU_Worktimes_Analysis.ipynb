{
 "cells": [
  {
   "cell_type": "code",
   "execution_count": 6,
   "id": "d8c4e933",
   "metadata": {},
   "outputs": [
    {
     "data": {
      "text/html": [
       "<div>\n",
       "<style scoped>\n",
       "    .dataframe tbody tr th:only-of-type {\n",
       "        vertical-align: middle;\n",
       "    }\n",
       "\n",
       "    .dataframe tbody tr th {\n",
       "        vertical-align: top;\n",
       "    }\n",
       "\n",
       "    .dataframe thead th {\n",
       "        text-align: right;\n",
       "    }\n",
       "</style>\n",
       "<table border=\"1\" class=\"dataframe\">\n",
       "  <thead>\n",
       "    <tr style=\"text-align: right;\">\n",
       "      <th></th>\n",
       "      <th>Week Day</th>\n",
       "      <th>Hour</th>\n",
       "      <th>Employee Count</th>\n",
       "      <th>Total Employee Count</th>\n",
       "    </tr>\n",
       "  </thead>\n",
       "  <tbody>\n",
       "    <tr>\n",
       "      <th>0</th>\n",
       "      <td>Mon</td>\n",
       "      <td>10</td>\n",
       "      <td>1</td>\n",
       "      <td>11</td>\n",
       "    </tr>\n",
       "    <tr>\n",
       "      <th>11</th>\n",
       "      <td>Sun</td>\n",
       "      <td>11</td>\n",
       "      <td>1</td>\n",
       "      <td>5</td>\n",
       "    </tr>\n",
       "    <tr>\n",
       "      <th>20</th>\n",
       "      <td>Tues</td>\n",
       "      <td>70</td>\n",
       "      <td>2</td>\n",
       "      <td>10</td>\n",
       "    </tr>\n",
       "  </tbody>\n",
       "</table>\n",
       "</div>"
      ],
      "text/plain": [
       "   Week Day  Hour  Employee Count  Total Employee Count\n",
       "0       Mon    10               1                    11\n",
       "11      Sun    11               1                     5\n",
       "20     Tues    70               2                    10"
      ]
     },
     "execution_count": 6,
     "metadata": {},
     "output_type": "execute_result"
    }
   ],
   "source": [
    "\n",
    "import pandas as pd\n",
    "\n",
    "# Load the data from the file\n",
    "file_path = \"C:\\\\Users\\\\szhang\\\\Downloads\\\\00001_12876_Dept-Shift-Counts_v1.0_11-13-2019 1_rs.txt\"\n",
    "file_path = 'C:\\\\Users\\\\szhang\\\\Downloads\\\\test NYU.txt'\n",
    "data = pd.read_csv(file_path, delimiter=',', skipinitialspace=True)\n",
    "\n",
    "# Drop unnecessary columns\n",
    "data = data.drop(columns=['Unnamed: 7', 'Unnamed: 8', 'Unnamed: 9', 'LINE'])\n",
    "\n",
    "# Extract the hour from 'Sched Start Time'\n",
    "data['Hour'] = data['Sched Start Time'].apply(lambda x: int(str(x).split()[-1][:2]))\n",
    "\n",
    "# Group by 'Week Day' and 'Hour' to count the number of employees\n",
    "employee_counts = data.groupby(['Week Day', 'Hour']).size().reset_index(name='Employee Count')\n",
    "\n",
    "# Group by 'Week Day' to count the total number of employees for each day\n",
    "total_employee_counts = data.groupby('Week Day').size().reset_index(name='Total Employee Count')\n",
    "\n",
    "# Merge the two DataFrames to compare peak hour counts with total counts\n",
    "merged_data = employee_counts.merge(total_employee_counts, on='Week Day')\n",
    "\n",
    "# Identify peak hours (hours with the highest employee count for each day)\n",
    "peak_hours = merged_data.loc[merged_data.groupby('Week Day')['Employee Count'].idxmax()]\n",
    "\n",
    "peak_hours\n"
   ]
  }
 ],
 "metadata": {
  "kernelspec": {
   "display_name": ".venv",
   "language": "python",
   "name": "python3"
  },
  "language_info": {
   "codemirror_mode": {
    "name": "ipython",
    "version": 3
   },
   "file_extension": ".py",
   "mimetype": "text/x-python",
   "name": "python",
   "nbconvert_exporter": "python",
   "pygments_lexer": "ipython3",
   "version": "3.10.11"
  }
 },
 "nbformat": 4,
 "nbformat_minor": 5
}
